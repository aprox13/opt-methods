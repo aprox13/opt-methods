{
 "cells": [
  {
   "cell_type": "markdown",
   "metadata": {},
   "source": [
    "Продемонстрируем результат работы методов одномерного поиска минимума для\n",
    "функции `f(x) = -sin(x)` на интервали `[0, 4]`"
   ]
  },
  {
   "cell_type": "code",
   "execution_count": 1,
   "metadata": {},
   "outputs": [
    {
     "ename": "ModuleNotFoundError",
     "evalue": "No module named 'core'",
     "output_type": "error",
     "traceback": [
      "\u001b[0;31m---------------------------------------------------------------------------\u001b[0m",
      "\u001b[0;31mModuleNotFoundError\u001b[0m                       Traceback (most recent call last)",
      "\u001b[0;32m<ipython-input-1-01961d7162f7>\u001b[0m in \u001b[0;36m<module>\u001b[0;34m\u001b[0m\n\u001b[1;32m      1\u001b[0m \u001b[0;32mfrom\u001b[0m \u001b[0mtqdm\u001b[0m \u001b[0;32mimport\u001b[0m \u001b[0mtqdm\u001b[0m\u001b[0;34m\u001b[0m\u001b[0;34m\u001b[0m\u001b[0m\n\u001b[1;32m      2\u001b[0m \u001b[0;34m\u001b[0m\u001b[0m\n\u001b[0;32m----> 3\u001b[0;31m \u001b[0;32mfrom\u001b[0m \u001b[0mcore\u001b[0m\u001b[0;34m.\u001b[0m\u001b[0mextended_functions\u001b[0m \u001b[0;32mimport\u001b[0m \u001b[0mMinusSin1\u001b[0m\u001b[0;34m\u001b[0m\u001b[0;34m\u001b[0m\u001b[0m\n\u001b[0m\u001b[1;32m      4\u001b[0m \u001b[0;32mfrom\u001b[0m \u001b[0msearch\u001b[0m\u001b[0;34m.\u001b[0m\u001b[0mone_dim_search\u001b[0m \u001b[0;32mimport\u001b[0m \u001b[0;34m*\u001b[0m\u001b[0;34m\u001b[0m\u001b[0;34m\u001b[0m\u001b[0m\n\u001b[1;32m      5\u001b[0m \u001b[0;32mfrom\u001b[0m \u001b[0mutils\u001b[0m\u001b[0;34m.\u001b[0m\u001b[0mmatplotlib_utils\u001b[0m \u001b[0;32mimport\u001b[0m \u001b[0;34m*\u001b[0m\u001b[0;34m\u001b[0m\u001b[0;34m\u001b[0m\u001b[0m\n",
      "\u001b[0;31mModuleNotFoundError\u001b[0m: No module named 'core'"
     ]
    }
   ],
   "source": [
    "\n",
    "from tqdm import tqdm\n",
    "\n",
    "from core.extended_functions import MinusSin1\n",
    "from search.one_dim_search import *\n",
    "from utils.matplotlib_utils import *\n",
    "\n",
    "RANGE = Range(0, 4)\n",
    "\n",
    "TARGET_EPS = [1, 0.1, 1e-2, 1e-3, 1e-4, 1e-5, 1e-6, 1e-7, 1e-8][::-1]\n",
    "\n",
    "fib = Fib()\n",
    "ENGINES = {\n",
    "    \"dichotomy\": Dichotomy(find_min=True),\n",
    "    \"golden section\": GoldenSection(find_min=True),\n",
    "    \"fibonacci\": Fibonacci(fib)\n",
    "}"
   ]
  },
  {
   "cell_type": "code",
   "execution_count": 2,
   "metadata": {},
   "outputs": [
    {
     "ename": "NameError",
     "evalue": "name 'TARGET_EPS' is not defined",
     "output_type": "error",
     "traceback": [
      "\u001b[0;31m---------------------------------------------------------------------------\u001b[0m",
      "\u001b[0;31mNameError\u001b[0m                                 Traceback (most recent call last)",
      "\u001b[0;32m<ipython-input-2-4b66960cbebb>\u001b[0m in \u001b[0;36m<module>\u001b[0;34m\u001b[0m\n\u001b[1;32m      1\u001b[0m \u001b[0mRESULT\u001b[0m \u001b[0;34m=\u001b[0m \u001b[0;34m{\u001b[0m\u001b[0;34m}\u001b[0m\u001b[0;34m\u001b[0m\u001b[0;34m\u001b[0m\u001b[0m\n\u001b[1;32m      2\u001b[0m \u001b[0;34m\u001b[0m\u001b[0m\n\u001b[0;32m----> 3\u001b[0;31m \u001b[0;32mfor\u001b[0m \u001b[0meps\u001b[0m \u001b[0;32min\u001b[0m \u001b[0mtqdm\u001b[0m\u001b[0;34m(\u001b[0m\u001b[0mTARGET_EPS\u001b[0m\u001b[0;34m)\u001b[0m\u001b[0;34m:\u001b[0m\u001b[0;34m\u001b[0m\u001b[0;34m\u001b[0m\u001b[0m\n\u001b[0m\u001b[1;32m      4\u001b[0m     \u001b[0mRESULT\u001b[0m\u001b[0;34m[\u001b[0m\u001b[0meps\u001b[0m\u001b[0;34m]\u001b[0m \u001b[0;34m=\u001b[0m \u001b[0;34m{\u001b[0m\u001b[0;34m}\u001b[0m\u001b[0;34m\u001b[0m\u001b[0;34m\u001b[0m\u001b[0m\n\u001b[1;32m      5\u001b[0m     \u001b[0;32mfor\u001b[0m \u001b[0me_name\u001b[0m\u001b[0;34m,\u001b[0m \u001b[0me\u001b[0m \u001b[0;32min\u001b[0m \u001b[0mENGINES\u001b[0m\u001b[0;34m.\u001b[0m\u001b[0mitems\u001b[0m\u001b[0;34m(\u001b[0m\u001b[0;34m)\u001b[0m\u001b[0;34m:\u001b[0m\u001b[0;34m\u001b[0m\u001b[0;34m\u001b[0m\u001b[0m\n",
      "\u001b[0;31mNameError\u001b[0m: name 'TARGET_EPS' is not defined"
     ]
    }
   ],
   "source": [
    "\n",
    "RESULT = {}\n",
    "\n",
    "for eps in tqdm(TARGET_EPS):\n",
    "    RESULT[eps] = {}\n",
    "    for e_name, e in ENGINES.items():\n",
    "        RESULT[eps][e_name] = e.search(RANGE, MinusSin1(), eps)\n",
    "\n",
    "engines_cnt = len(ENGINES)\n",
    "\n",
    "\n",
    "def by_eps_plot(title: str, items: dict):\n",
    "    def inner(ax):\n",
    "        ax.set_title(title)\n",
    "        for k, (xx, yy) in items.items():\n",
    "            x_labels = list(map(str, xx))\n",
    "            x_ticks = list(range(len(xx)))\n",
    "\n",
    "            ax.set_xlabel('Eps')\n",
    "            ax.set_xticks(x_ticks)\n",
    "            ax.set_xticklabels(x_labels)\n",
    "            ax.plot(x_ticks, yy, label=k)\n",
    "        ax.legend()\n",
    "\n",
    "    return inner\n",
    "\n",
    "\n",
    "def range_plt(e_name: str, eps: float):\n",
    "    def _inner(ax):\n",
    "        ax.set_title(f'Ranges for {e_name}[eps = {eps}]')\n",
    "        res: SearchResult = RESULT[eps][e_name]\n",
    "\n",
    "        ranges = res.ranges\n",
    "\n",
    "        yy = list(range(res.iterations))\n",
    "\n",
    "        xx_left = []\n",
    "        xx_right = []\n",
    "\n",
    "        for r in ranges:\n",
    "            xx_left.append(r.left)\n",
    "            xx_right.append(r.right)\n",
    "\n",
    "        ax.plot(xx_left, yy)\n",
    "        ax.plot(xx_right, yy)\n",
    "\n",
    "    return _inner\n",
    "\n",
    "\n",
    "iter_by_eps = {}\n",
    "calls_by_eps = {}\n",
    "results_by_eps = {}\n",
    "\n",
    "for e_name in ENGINES.keys():\n",
    "    xx = []\n",
    "    iter_yy = []\n",
    "    calls_yy = []\n",
    "    results_yy = []\n",
    "    for eps in TARGET_EPS:\n",
    "        xx.append(eps)\n",
    "        res: SearchResult = RESULT[eps][e_name]\n",
    "        iter_yy.append(res.iterations)\n",
    "        calls_yy.append(res.calls_count)\n",
    "        results_yy.append(res.x)\n",
    "\n",
    "    iter_by_eps[e_name] = (xx, iter_yy)\n",
    "    calls_by_eps[e_name] = (xx, calls_yy)\n",
    "    results_by_eps[e_name] = (xx, results_yy)\n",
    "\n",
    "grid = [\n",
    "    by_eps_plot(\"Iterations by eps\", iter_by_eps),\n",
    "    by_eps_plot(\"Calls by eps\", calls_by_eps),\n",
    "    by_eps_plot(\"Result by eps\", results_by_eps)\n",
    "]\n",
    "\n",
    "for e_name in ENGINES.keys():\n",
    "    grid.append(range_plt(e_name, 1e-4))\n",
    "\n",
    "draw_grid(grid, ncols=engines_cnt)\n"
   ]
  },
  {
   "cell_type": "code",
   "execution_count": null,
   "metadata": {},
   "outputs": [],
   "source": []
  }
 ],
 "metadata": {
  "anaconda-cloud": {},
  "kernelspec": {
   "display_name": "Python 3",
   "language": "python",
   "name": "python3"
  },
  "language_info": {
   "codemirror_mode": {
    "name": "ipython",
    "version": 3
   },
   "file_extension": ".py",
   "mimetype": "text/x-python",
   "name": "python",
   "nbconvert_exporter": "python",
   "pygments_lexer": "ipython3",
   "version": "3.8.5"
  }
 },
 "nbformat": 4,
 "nbformat_minor": 4
}
