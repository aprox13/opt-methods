{
 "cells": [
  {
   "cell_type": "code",
   "metadata": {},
   "source": [
    "import sys\n",
    "\n",
    "sys.path.append('../')"
   ],
   "outputs": [],
   "execution_count": null
  },
  {
   "cell_type": "code",
   "metadata": {},
   "source": [
    "import matplotlib.pyplot as plt\n",
    "from IPython.display import Image"
   ],
   "outputs": [],
   "execution_count": null
  },
  {
   "cell_type": "markdown",
   "metadata": {},
   "source": [
    "### Задание 1\n",
    "\n",
    "Каноническая орма ЗЛП"
   ]
  },
  {
   "cell_type": "markdown",
   "metadata": {},
   "source": [
    "### Задание 2\n",
    "\n",
    "Метод естетвенного базиса - если в системе существует единичная подматрица\n",
    "\n",
    "Метод искусственного базиса - если добавить единичная подматрицу с помощью введение новых переменных"
   ]
  },
  {
   "cell_type": "code",
   "metadata": {},
   "source": [
    "\n",
    "Image(filename='../simplex/img/task1.png')"
   ],
   "outputs": [],
   "execution_count": null
  },
  {
   "cell_type": "markdown",
   "metadata": {},
   "source": [
    "### Задание 3\n",
    "\n",
    "Доказать, что ОДР выпуклое мн-во"
   ]
  },
  {
   "cell_type": "code",
   "metadata": {},
   "source": [
    "\n",
    "Image(filename='../simplex/img/task3.png')"
   ],
   "outputs": [],
   "execution_count": null
  },
  {
   "cell_type": "markdown",
   "metadata": {},
   "source": [
    "### Задание 4\n",
    "\n",
    "Может ли ОДР состоять из одной точки?\n",
    "\n",
    "Да, может. Как пример, \n",
    "```\n",
    "f(x) = y = -x\n",
    "x, y >= 0\n",
    "```"
   ]
  },
  {
   "cell_type": "code",
   "metadata": {},
   "source": [
    "\n",
    "plt.xlim(-5, 5)\n",
    "plt.ylim(-5, 5)\n",
    "plt.axhline(y=0, color='k', linewidth=0.5)\n",
    "plt.axvline(x=0, color='k', linewidth=0.5)\n",
    "\n",
    "plt.plot([5, -5], [-5, 5], label='y = -x')\n",
    "plt.scatter([0], [0])\n",
    "\n",
    "plt.legend()\n",
    "plt.show()"
   ],
   "outputs": [],
   "execution_count": null
  },
  {
   "cell_type": "markdown",
   "metadata": {},
   "source": [
    "### Задание 5"
   ]
  },
  {
   "cell_type": "code",
   "metadata": {},
   "source": [
    "\n",
    "X_MAX = 3.5\n",
    "X_MIN = 0.5\n",
    "Y_MAX = 4\n",
    "Y_MIN = 0\n",
    "plt.rcParams[\"figure.figsize\"] = (10, 10)\n",
    "\n",
    "\n",
    "def draw_segment(ax, fx, label, x1=-X_MIN - 5, x2=X_MAX + 5):\n",
    "    y1 = fx(x1)\n",
    "\n",
    "    y2 = fx(x2)\n",
    "\n",
    "    ax.plot([x1, x2], [y1, y2], label=label)\n",
    "\n",
    "\n",
    "# F: -3x1 - 2x2 + b = 0\n",
    "# eqiv\n",
    "# F: x2 = (b - 3*x1) / 2\n",
    "def F(x1, b: float = 5):\n",
    "    return (b - 3 * x1) / 2\n",
    "\n",
    "\n",
    "def F_task(x1, x2):\n",
    "    return -3 * x1 - 2 * x2\n"
   ],
   "outputs": [],
   "execution_count": null
  },
  {
   "cell_type": "markdown",
   "metadata": {},
   "source": [
    "Дана функция и ограничения.\n",
    "\n",
    "Решить графическим методом"
   ]
  },
  {
   "cell_type": "code",
   "metadata": {},
   "source": [
    "Image(filename='../simplex/img/task5.png')"
   ],
   "outputs": [],
   "execution_count": null
  },
  {
   "cell_type": "markdown",
   "metadata": {},
   "source": [
    "Построим многогранник решений "
   ]
  },
  {
   "cell_type": "code",
   "metadata": {},
   "source": [
    "def base_ax():\n",
    "    fig, ax = plt.subplots()\n",
    "    ax.set_ylabel('x2')\n",
    "    ax.set_xlabel('x1')\n",
    "    ax.set_xlim(X_MIN, X_MAX)\n",
    "    ax.set_ylim(Y_MIN, Y_MAX)\n",
    "\n",
    "    return ax\n",
    "\n",
    "\n",
    "def draw_solve_area(ax):\n",
    "    points = [\n",
    "        ('A', (1, 3)),\n",
    "        ('B', (2.5, 3)),\n",
    "        ('C', (3, 2))\n",
    "    ]\n",
    "    point_x = list(map(lambda p: p[1][0], points))\n",
    "    point_y = list(map(lambda p: p[1][1], points))\n",
    "    ax.scatter(point_x, point_y)\n",
    "\n",
    "    for p, (px, py) in points:\n",
    "        txt = f'{p} ({px}, {py})'\n",
    "        ax.text(px + 0.1, py + 0.1, txt)\n",
    "\n",
    "    poly = plt.Polygon(list(map(lambda x: x[1], points)), alpha=0.3)\n",
    "    ax.add_patch(poly)\n",
    "\n",
    "\n",
    "ax = base_ax()\n",
    "\n",
    "draw_segment(ax, lambda x1: 3, label='x2 = 3')\n",
    "draw_segment(ax, lambda x1: (7 - x1) / 2, label='x1 + 2*x2 = 7')\n",
    "draw_segment(ax, lambda x1: (8 - 2 * x1), label='2*x1 + x2 = 8')\n",
    "\n",
    "draw_solve_area(ax)\n",
    "\n",
    "plt.legend()\n",
    "plt.show()"
   ],
   "outputs": [],
   "execution_count": null
  },
  {
   "cell_type": "markdown",
   "metadata": {},
   "source": [
    "Построим данную функцию и ее градиент. \n",
    "\n",
    "Для удобства построим -3x1 - 2x2 = -5.\n",
    "<=>\n",
    "3x1 + 2x2 = 5\n",
    "<=>\n",
    "2x2 = 5 - 3x1\n",
    "x2 = 5/2 - 3/2 * x1\n",
    "k = -3/2\n",
    "\n",
    "Вектор градиента (-3, -2)\n",
    "\n",
    "Вспоминая уравнение нормали\n",
    "y–y1=-1/k(x-x1)\n",
    "<=>\n",
    "y = y1 - 1/k * (x - x1)\n",
    "\n",
    "Построим ее"
   ]
  },
  {
   "cell_type": "code",
   "metadata": {},
   "source": [
    "\n",
    "def draw_F_with_normal_from_dot(ax, x, y, normal_x_len=0.7):\n",
    "    b = -F_task(x, y)\n",
    "    draw_segment(ax, lambda x1: F(x1, b=b), label=f'F: -3x1 - 2x2 + {b} = 0')\n",
    "\n",
    "    def normal_Fx(x1):\n",
    "        return y - (1 / -(3 / 2)) * (x1 - x)\n",
    "\n",
    "    draw_segment(ax, normal_Fx, label='normal', x1=x - normal_x_len, x2=x)\n",
    "\n",
    "\n",
    "ax = base_ax()\n",
    "draw_solve_area(ax)\n",
    "draw_F_with_normal_from_dot(ax, 1, 1, normal_x_len=0.3)\n",
    "\n",
    "plt.legend()\n",
    "plt.show()"
   ],
   "outputs": [],
   "execution_count": null
  },
  {
   "cell_type": "markdown",
   "metadata": {},
   "source": [
    "Отсюда видно, что первое вхождение в область решений это точка B.\n",
    "\n",
    "В данном случае мы двигаемся в направлении, обратномм нормали. Поэтому\n",
    "тут первое вхождение при движении в сторону нормали, есть последнее \n",
    "вхождение при движении в обратную строну  "
   ]
  },
  {
   "cell_type": "code",
   "metadata": {},
   "source": [
    "\n",
    "ax = base_ax()\n",
    "draw_solve_area(ax)\n",
    "draw_F_with_normal_from_dot(ax, 2.5, 3, normal_x_len=0.7)\n",
    "\n",
    "plt.legend()\n",
    "plt.show()"
   ],
   "outputs": [],
   "execution_count": null
  },
  {
   "cell_type": "markdown",
   "metadata": {},
   "source": [
    "Для наглядности покажем значения функций в точках"
   ]
  },
  {
   "cell_type": "code",
   "metadata": {},
   "source": [
    "print(f'''\n",
    "F(A) = {F_task(1, 3)}\n",
    "F(B) = {F_task(2.5, 3)}\n",
    "F(C) = {F_task(3, 2)}\n",
    "''')"
   ],
   "outputs": [],
   "execution_count": null
  },
  {
   "cell_type": "markdown",
   "metadata": {},
   "source": [
    "### Задание 6"
   ]
  },
  {
   "cell_type": "code",
   "metadata": {},
   "source": [
    "Image(filename='../simplex/img/task6.png')"
   ],
   "outputs": [],
   "execution_count": null
  },
  {
   "cell_type": "code",
   "metadata": {},
   "source": [
    "Image(filename='../simplex/img/task6_solve.png')"
   ],
   "outputs": [],
   "execution_count": null
  },
  {
   "cell_type": "markdown",
   "metadata": {},
   "source": [
    "При этом `(x1, x3)` и `(x2, x4)` - взаимо зависимые и не могут быть базисами\n",
    "\n",
    "\n",
    "### Задание 7"
   ]
  },
  {
   "cell_type": "code",
   "metadata": {},
   "source": [
    "Image(filename='../simplex/img/task7.png')"
   ],
   "outputs": [],
   "execution_count": null
  },
  {
   "cell_type": "markdown",
   "metadata": {},
   "source": [
    "### Задание 8"
   ]
  },
  {
   "cell_type": "code",
   "metadata": {},
   "source": [
    "Image(filename='../simplex/img/task8.png')"
   ],
   "outputs": [],
   "execution_count": null
  }
 ],
 "metadata": {
  "anaconda-cloud": {},
  "kernelspec": {
   "display_name": "Python 3",
   "language": "python",
   "name": "python3"
  },
  "language_info": {
   "codemirror_mode": {
    "name": "ipython",
    "version": 3
   },
   "file_extension": ".py",
   "mimetype": "text/x-python",
   "name": "python",
   "nbconvert_exporter": "python",
   "pygments_lexer": "ipython3",
   "version": "3.6.1"
  }
 },
 "nbformat": 4,
 "nbformat_minor": 4
}